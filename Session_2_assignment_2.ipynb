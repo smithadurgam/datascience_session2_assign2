{
 "cells": [
  {
   "cell_type": "code",
   "execution_count": 30,
   "metadata": {},
   "outputs": [
    {
     "name": "stdout",
     "output_type": "stream",
     "text": [
      "*\n",
      "**\n",
      "***\n",
      "****\n",
      "*****\n",
      "****\n",
      "***\n",
      "**\n",
      "*\n"
     ]
    }
   ],
   "source": [
    "# Session 2 - Assignment 2\n",
    "# Create the given pattern using nested for loop in Python.\n",
    "\n",
    "# initialize the number of rows and number of columns\n",
    "row1 = [1,2,3,4,5]\n",
    "col1 = [1,2,3,4,5]\n",
    "\n",
    "for index in row1:\n",
    "    for index2 in col1:\n",
    "        print(\"*\", end=\"\")\n",
    "        if index == index2:\n",
    "            break\n",
    "    print()\n",
    "# start decrementing \n",
    "row1.pop()\n",
    "row1.reverse()\n",
    "col1.pop()\n",
    "for index in row1:\n",
    "    for index2 in col1:\n",
    "        print(\"*\", end=\"\")\n",
    "        if index == index2:\n",
    "            break\n",
    "    print()"
   ]
  },
  {
   "cell_type": "code",
   "execution_count": null,
   "metadata": {},
   "outputs": [],
   "source": []
  }
 ],
 "metadata": {
  "kernelspec": {
   "display_name": "Python 3",
   "language": "python",
   "name": "python3"
  },
  "language_info": {
   "codemirror_mode": {
    "name": "ipython",
    "version": 3
   },
   "file_extension": ".py",
   "mimetype": "text/x-python",
   "name": "python",
   "nbconvert_exporter": "python",
   "pygments_lexer": "ipython3",
   "version": "3.6.4"
  }
 },
 "nbformat": 4,
 "nbformat_minor": 2
}
